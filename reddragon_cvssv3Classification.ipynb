{
  "nbformat": 4,
  "nbformat_minor": 0,
  "metadata": {
    "colab": {
      "name": "reddragon_cvssv3Classification.ipynb",
      "provenance": [],
      "collapsed_sections": [],
      "toc_visible": true,
      "authorship_tag": "ABX9TyOXJJxUsCDJhtVRvoU9o+D2",
      "include_colab_link": true
    },
    "kernelspec": {
      "name": "python3",
      "display_name": "Python 3"
    },
    "accelerator": "GPU"
  },
  "cells": [
    {
      "cell_type": "markdown",
      "metadata": {
        "id": "view-in-github",
        "colab_type": "text"
      },
      "source": [
        "<a href=\"https://colab.research.google.com/github/chuayupeng/cvssV3_Classifier/blob/master/reddragon_cvssv3Classification.ipynb\" target=\"_parent\"><img src=\"https://colab.research.google.com/assets/colab-badge.svg\" alt=\"Open In Colab\"/></a>"
      ]
    },
    {
      "cell_type": "markdown",
      "metadata": {
        "id": "Chv1KhQ6gyCX",
        "colab_type": "text"
      },
      "source": [
        "## **CVSSV3 DL-TL Classfier**\n",
        "\n",
        "The model is supposed to take in a description of a reported vulnerability and output each of the matrices that make up its CVSSV3 base rating.\n",
        "\n",
        "Data cleaned from NVD, based on all existing vulnerability reports collated."
      ]
    },
    {
      "cell_type": "markdown",
      "metadata": {
        "id": "R_3eZOsah8TJ",
        "colab_type": "text"
      },
      "source": [
        "# Pre-Requisites"
      ]
    },
    {
      "cell_type": "markdown",
      "metadata": {
        "id": "yOcf7UCehXlR",
        "colab_type": "text"
      },
      "source": [
        "First, to check the type of GPU allocated."
      ]
    },
    {
      "cell_type": "code",
      "metadata": {
        "id": "fezaDsbIxqmu",
        "colab_type": "code",
        "outputId": "663dbacd-0a56-4da9-fcad-221bd7084840",
        "colab": {
          "base_uri": "https://localhost:8080/",
          "height": 306
        }
      },
      "source": [
        "!nvidia-smi"
      ],
      "execution_count": 0,
      "outputs": [
        {
          "output_type": "stream",
          "text": [
            "Thu Mar 19 07:52:21 2020       \n",
            "+-----------------------------------------------------------------------------+\n",
            "| NVIDIA-SMI 440.59       Driver Version: 418.67       CUDA Version: 10.1     |\n",
            "|-------------------------------+----------------------+----------------------+\n",
            "| GPU  Name        Persistence-M| Bus-Id        Disp.A | Volatile Uncorr. ECC |\n",
            "| Fan  Temp  Perf  Pwr:Usage/Cap|         Memory-Usage | GPU-Util  Compute M. |\n",
            "|===============================+======================+======================|\n",
            "|   0  Tesla P4            Off  | 00000000:00:04.0 Off |                    0 |\n",
            "| N/A   43C    P8     7W /  75W |      0MiB /  7611MiB |      0%      Default |\n",
            "+-------------------------------+----------------------+----------------------+\n",
            "                                                                               \n",
            "+-----------------------------------------------------------------------------+\n",
            "| Processes:                                                       GPU Memory |\n",
            "|  GPU       PID   Type   Process name                             Usage      |\n",
            "|=============================================================================|\n",
            "|  No running processes found                                                 |\n",
            "+-----------------------------------------------------------------------------+\n"
          ],
          "name": "stdout"
        }
      ]
    },
    {
      "cell_type": "markdown",
      "metadata": {
        "id": "B3kdIz4xhdvu",
        "colab_type": "text"
      },
      "source": [
        "Downloading the somewhat cleaned data I had previously collated from NVD, and also the glove embedding texts."
      ]
    },
    {
      "cell_type": "code",
      "metadata": {
        "id": "xsy2ES5vCUWq",
        "colab_type": "code",
        "outputId": "a1b7b710-3b0c-4bb7-d74f-1b90f9d2253a",
        "colab": {
          "base_uri": "https://localhost:8080/",
          "height": 238
        }
      },
      "source": [
        "!wget https://raw.githubusercontent.com/chuayupeng/cvssV3_Classifier/master/cleanedData.json\n",
        "!wget -qq https://www.dropbox.com/s/v14xhvjmfniraf3/glove6b100dtxt.zip\n",
        "# !wget -qq http://nlp.stanford.edu/data/glove.6B.zip\n",
        "  \n",
        "!unzip glove6b100dtxt.zip"
      ],
      "execution_count": 0,
      "outputs": [
        {
          "output_type": "stream",
          "text": [
            "--2020-03-19 07:52:24--  https://raw.githubusercontent.com/chuayupeng/cvssV3_Classifier/master/cleanedData.json\n",
            "Resolving raw.githubusercontent.com (raw.githubusercontent.com)... 151.101.0.133, 151.101.64.133, 151.101.128.133, ...\n",
            "Connecting to raw.githubusercontent.com (raw.githubusercontent.com)|151.101.0.133|:443... connected.\n",
            "HTTP request sent, awaiting response... 200 OK\n",
            "Length: 38639694 (37M) [text/plain]\n",
            "Saving to: ‘cleanedData.json’\n",
            "\n",
            "\rcleanedData.json      0%[                    ]       0  --.-KB/s               \rcleanedData.json     81%[===============>    ]  30.04M   150MB/s               \rcleanedData.json    100%[===================>]  36.85M   169MB/s    in 0.2s    \n",
            "\n",
            "2020-03-19 07:52:25 (169 MB/s) - ‘cleanedData.json’ saved [38639694/38639694]\n",
            "\n",
            "Archive:  glove6b100dtxt.zip\n",
            "  inflating: glove.6B.100d.txt       \n"
          ],
          "name": "stdout"
        }
      ]
    },
    {
      "cell_type": "markdown",
      "metadata": {
        "id": "SEMq5x0ehs6M",
        "colab_type": "text"
      },
      "source": [
        "Importing relevant libraries"
      ]
    },
    {
      "cell_type": "code",
      "metadata": {
        "id": "QT-OV5N3ROvz",
        "colab_type": "code",
        "outputId": "397ecff0-9891-483b-ae14-deeb035debbe",
        "colab": {
          "base_uri": "https://localhost:8080/",
          "height": 34
        }
      },
      "source": [
        "%tensorflow_version 2.x\n",
        "import sys, os, re, csv, codecs, numpy as np, pandas as pd, tensorflow as tf\n",
        "import json\n",
        "import matplotlib.pyplot as plt\n",
        "%matplotlib inline"
      ],
      "execution_count": 0,
      "outputs": [
        {
          "output_type": "stream",
          "text": [
            "TensorFlow 2.x selected.\n"
          ],
          "name": "stdout"
        }
      ]
    },
    {
      "cell_type": "markdown",
      "metadata": {
        "id": "3-YSxhCziEOk",
        "colab_type": "text"
      },
      "source": [
        "Building the embedding word vectors."
      ]
    },
    {
      "cell_type": "code",
      "metadata": {
        "id": "E3RuZT9UU6UQ",
        "colab_type": "code",
        "outputId": "7d3ae22e-8e8f-4dd6-e257-dd0603b8840d",
        "colab": {
          "base_uri": "https://localhost:8080/",
          "height": 51
        }
      },
      "source": [
        "# first, build index mapping words in the embeddings set\n",
        "# to their embedding vector\n",
        "\n",
        "print('Indexing word vectors.')\n",
        "\n",
        "embeddings_index = {}\n",
        "with open('glove.6B.100d.txt') as f:\n",
        "    for line in f:\n",
        "        values = line.split()\n",
        "        word = values[0]\n",
        "        coefs = np.asarray(values[1:], dtype='float32')\n",
        "        embeddings_index[word] = coefs\n",
        "\n",
        "print('Found %s word vectors.' % len(embeddings_index))"
      ],
      "execution_count": 0,
      "outputs": [
        {
          "output_type": "stream",
          "text": [
            "Indexing word vectors.\n",
            "Found 400000 word vectors.\n"
          ],
          "name": "stdout"
        }
      ]
    },
    {
      "cell_type": "markdown",
      "metadata": {
        "id": "dtISSlhFhyCi",
        "colab_type": "text"
      },
      "source": [
        "# Data Cleaning"
      ]
    },
    {
      "cell_type": "code",
      "metadata": {
        "id": "ahzVhgbrF7We",
        "colab_type": "code",
        "colab": {}
      },
      "source": [
        "cleanDataCSV = {\"description\": {}, \n",
        "                'attackVector': {}, \n",
        "                'attackComplexity': {}, \n",
        "                'privilegesRequired': {}, \n",
        "                'userInteraction': {}, \n",
        "                'scope': {}, \n",
        "                'confidentialityImpact': {}, \n",
        "                'integrityImpact': {}, \n",
        "                'availabilityImpact': {}, \n",
        "                'baseScore': {}, \n",
        "                'baseSeverity': {}}\n",
        "with open('cleanedData.json', 'r') as infile:\n",
        "  rawData = json.load(infile)['data']\n",
        "i = 0\n",
        "labels = {'NETWORK': 1, \n",
        "          'LOCAL': 2, \n",
        "          'ADJACENT_NETWORK': 3, \n",
        "          'PHYSICAL': 4, \n",
        "          'NONE': 5, \n",
        "          'LOW': 6, \n",
        "          'HIGH': 7, \n",
        "          'REQUIRED': 8,\n",
        "          'UNCHANGED': 9, \n",
        "          'CHANGED': 10,\n",
        "          'CRITICAL':11, \n",
        "          'MEDIUM': 12\n",
        "          }\n",
        "for data in rawData:\n",
        "  cleanDataCSV[\"description\"][str(i)] = data['description']\n",
        "  cleanDataCSV[\"attackVector\"][str(i)] = labels[data['cvssV3']['attackVector']]\n",
        "  cleanDataCSV[\"attackComplexity\"][str(i)] = labels[data['cvssV3']['attackComplexity']]\n",
        "  cleanDataCSV[\"privilegesRequired\"][str(i)] = labels[data['cvssV3']['privilegesRequired']]\n",
        "  cleanDataCSV[\"userInteraction\"][str(i)] = labels[data['cvssV3']['userInteraction']]\n",
        "  cleanDataCSV[\"scope\"][str(i)] = labels[data['cvssV3']['scope']]\n",
        "  cleanDataCSV[\"confidentialityImpact\"][str(i)] = labels[data['cvssV3']['confidentialityImpact']]\n",
        "  cleanDataCSV[\"integrityImpact\"][str(i)] = labels[data['cvssV3']['integrityImpact']]\n",
        "  cleanDataCSV[\"availabilityImpact\"][str(i)] = labels[data['cvssV3']['availabilityImpact']]\n",
        "  cleanDataCSV[\"baseScore\"][str(i)] = data['cvssV3']['baseScore']\n",
        "  cleanDataCSV[\"baseSeverity\"][str(i)] = labels[data['cvssV3']['baseSeverity']]\n",
        "  i = i + 1\n",
        "\n",
        "with open('dfCleanedData.json', 'w') as outfile:\n",
        "  json.dump(cleanDataCSV, outfile)"
      ],
      "execution_count": 0,
      "outputs": []
    },
    {
      "cell_type": "code",
      "metadata": {
        "id": "4oFf-Bt9IdN9",
        "colab_type": "code",
        "colab": {}
      },
      "source": [
        "df = pd.read_json (r'dfCleanedData.json')\n",
        "export_csv = df.to_csv (r'cleanedData.csv', index = None, header=True)"
      ],
      "execution_count": 0,
      "outputs": []
    },
    {
      "cell_type": "markdown",
      "metadata": {
        "id": "mRtwgikKiNT2",
        "colab_type": "text"
      },
      "source": [
        "# Importing Data\n"
      ]
    },
    {
      "cell_type": "code",
      "metadata": {
        "id": "IlbOxJyGJH9b",
        "colab_type": "code",
        "outputId": "e8eeea1d-a673-4b3f-8a5f-40b86ceee7a1",
        "colab": {
          "base_uri": "https://localhost:8080/",
          "height": 394
        }
      },
      "source": [
        "data = pd.read_csv('cleanedData.csv')\n",
        "data.head(5)"
      ],
      "execution_count": 0,
      "outputs": [
        {
          "output_type": "execute_result",
          "data": {
            "text/html": [
              "<div>\n",
              "<style scoped>\n",
              "    .dataframe tbody tr th:only-of-type {\n",
              "        vertical-align: middle;\n",
              "    }\n",
              "\n",
              "    .dataframe tbody tr th {\n",
              "        vertical-align: top;\n",
              "    }\n",
              "\n",
              "    .dataframe thead th {\n",
              "        text-align: right;\n",
              "    }\n",
              "</style>\n",
              "<table border=\"1\" class=\"dataframe\">\n",
              "  <thead>\n",
              "    <tr style=\"text-align: right;\">\n",
              "      <th></th>\n",
              "      <th>description</th>\n",
              "      <th>attackVector</th>\n",
              "      <th>attackComplexity</th>\n",
              "      <th>privilegesRequired</th>\n",
              "      <th>userInteraction</th>\n",
              "      <th>scope</th>\n",
              "      <th>confidentialityImpact</th>\n",
              "      <th>integrityImpact</th>\n",
              "      <th>availabilityImpact</th>\n",
              "      <th>baseScore</th>\n",
              "      <th>baseSeverity</th>\n",
              "    </tr>\n",
              "  </thead>\n",
              "  <tbody>\n",
              "    <tr>\n",
              "      <th>0</th>\n",
              "      <td>IIS 4.0 and 5.0 allows remote attackers to cau...</td>\n",
              "      <td>1</td>\n",
              "      <td>6</td>\n",
              "      <td>5</td>\n",
              "      <td>5</td>\n",
              "      <td>9</td>\n",
              "      <td>5</td>\n",
              "      <td>5</td>\n",
              "      <td>7</td>\n",
              "      <td>7.5</td>\n",
              "      <td>7</td>\n",
              "    </tr>\n",
              "    <tr>\n",
              "      <th>1</th>\n",
              "      <td>crypto/rsa/rsa_gen.c in OpenSSL before 0.9.6 m...</td>\n",
              "      <td>1</td>\n",
              "      <td>6</td>\n",
              "      <td>5</td>\n",
              "      <td>5</td>\n",
              "      <td>9</td>\n",
              "      <td>7</td>\n",
              "      <td>5</td>\n",
              "      <td>5</td>\n",
              "      <td>7.5</td>\n",
              "      <td>7</td>\n",
              "    </tr>\n",
              "    <tr>\n",
              "      <th>2</th>\n",
              "      <td>Integer overflow in the new[] operator in gcc ...</td>\n",
              "      <td>2</td>\n",
              "      <td>6</td>\n",
              "      <td>6</td>\n",
              "      <td>5</td>\n",
              "      <td>9</td>\n",
              "      <td>7</td>\n",
              "      <td>7</td>\n",
              "      <td>7</td>\n",
              "      <td>7.8</td>\n",
              "      <td>7</td>\n",
              "    </tr>\n",
              "    <tr>\n",
              "      <th>3</th>\n",
              "      <td>Snoopy before 2.0.0 has a security hole in exe...</td>\n",
              "      <td>1</td>\n",
              "      <td>6</td>\n",
              "      <td>5</td>\n",
              "      <td>5</td>\n",
              "      <td>9</td>\n",
              "      <td>7</td>\n",
              "      <td>7</td>\n",
              "      <td>7</td>\n",
              "      <td>9.8</td>\n",
              "      <td>11</td>\n",
              "    </tr>\n",
              "    <tr>\n",
              "      <th>4</th>\n",
              "      <td>The redirect_target function in net/ipv4/netfi...</td>\n",
              "      <td>1</td>\n",
              "      <td>6</td>\n",
              "      <td>5</td>\n",
              "      <td>5</td>\n",
              "      <td>9</td>\n",
              "      <td>5</td>\n",
              "      <td>5</td>\n",
              "      <td>7</td>\n",
              "      <td>7.5</td>\n",
              "      <td>7</td>\n",
              "    </tr>\n",
              "  </tbody>\n",
              "</table>\n",
              "</div>"
            ],
            "text/plain": [
              "                                         description  ...  baseSeverity\n",
              "0  IIS 4.0 and 5.0 allows remote attackers to cau...  ...             7\n",
              "1  crypto/rsa/rsa_gen.c in OpenSSL before 0.9.6 m...  ...             7\n",
              "2  Integer overflow in the new[] operator in gcc ...  ...             7\n",
              "3  Snoopy before 2.0.0 has a security hole in exe...  ...            11\n",
              "4  The redirect_target function in net/ipv4/netfi...  ...             7\n",
              "\n",
              "[5 rows x 11 columns]"
            ]
          },
          "metadata": {
            "tags": []
          },
          "execution_count": 8
        }
      ]
    },
    {
      "cell_type": "markdown",
      "metadata": {
        "id": "dcnxFyX4iT5F",
        "colab_type": "text"
      },
      "source": [
        "Sorting inputs and outputs (multiple labels)"
      ]
    },
    {
      "cell_type": "code",
      "metadata": {
        "id": "Jci6IYtXLL2R",
        "colab_type": "code",
        "outputId": "ead1747b-e529-4ee8-8cbd-0ffa8edfeddd",
        "colab": {
          "base_uri": "https://localhost:8080/",
          "height": 71
        }
      },
      "source": [
        "X_train = data['description'].str.lower()\n",
        "list_classes = [\"attackVector\",\"attackComplexity\",\"privilegesRequired\",\"userInteraction\",\"scope\",\"confidentialityImpact\",\"integrityImpact\",\"availabilityImpact\",\"baseScore\",\"baseSeverity\"]\n",
        "y = data[list_classes].values\n",
        "print(X_train[0])\n",
        "print(y[0])"
      ],
      "execution_count": 0,
      "outputs": [
        {
          "output_type": "stream",
          "text": [
            "iis 4.0 and 5.0 allows remote attackers to cause a denial of service by sending many urls with a large number of escaped characters, aka the \"myriad escaped characters\" vulnerability.\n",
            "[1.  6.  5.  5.  9.  5.  5.  7.  7.5 7. ]\n"
          ],
          "name": "stdout"
        }
      ]
    },
    {
      "cell_type": "markdown",
      "metadata": {
        "id": "t9APgPnqibT0",
        "colab_type": "text"
      },
      "source": [
        "# Tokenising Input"
      ]
    },
    {
      "cell_type": "code",
      "metadata": {
        "id": "QckDjonmLjx4",
        "colab_type": "code",
        "colab": {}
      },
      "source": [
        "max_features = 20000\n",
        "tokenizer = tf.keras.preprocessing.text.Tokenizer(num_words=max_features)\n",
        "tokenizer.fit_on_texts(list(X_train))\n",
        "list_tokenized_train = tokenizer.texts_to_sequences(X_train)"
      ],
      "execution_count": 0,
      "outputs": []
    },
    {
      "cell_type": "markdown",
      "metadata": {
        "id": "SLUH6LN5iiTN",
        "colab_type": "text"
      },
      "source": [
        "Preparing embedding matrix"
      ]
    },
    {
      "cell_type": "code",
      "metadata": {
        "id": "NzxOieVBVdo6",
        "colab_type": "code",
        "outputId": "c0656ebc-b749-407f-b5ec-866e51d10217",
        "colab": {
          "base_uri": "https://localhost:8080/",
          "height": 34
        }
      },
      "source": [
        "print('Preparing embedding matrix.')\n",
        "MAX_SEQUENCE_LENGTH = 200\n",
        "MAX_NUM_WORDS = 20000\n",
        "EMBEDDING_DIM = 100\n",
        "word_index = tokenizer.word_index\n",
        "# prepare embedding matrix\n",
        "num_words = min(MAX_NUM_WORDS, len(word_index)) + 1\n",
        "embedding_matrix = np.zeros((num_words, EMBEDDING_DIM))\n",
        "for word, i in word_index.items():\n",
        "    if i > MAX_NUM_WORDS:\n",
        "        continue\n",
        "    embedding_vector = embeddings_index.get(word)\n",
        "    if embedding_vector is not None:\n",
        "        # words not found in embedding index will be all-zeros.\n",
        "        embedding_matrix[i] = embedding_vector\n",
        "\n",
        "# load pre-trained word embeddings into an Embedding layer\n",
        "# note that we set trainable = False so as to keep the embeddings fixed (Changed to True as accuracy was higher)\n",
        "embedding_layer = tf.keras.layers.Embedding(num_words,\n",
        "                            EMBEDDING_DIM,\n",
        "                            embeddings_initializer=tf.keras.initializers.Constant(embedding_matrix),\n",
        "                            input_length=MAX_SEQUENCE_LENGTH,\n",
        "                            trainable=True)"
      ],
      "execution_count": 0,
      "outputs": [
        {
          "output_type": "stream",
          "text": [
            "Preparing embedding matrix.\n"
          ],
          "name": "stdout"
        }
      ]
    },
    {
      "cell_type": "code",
      "metadata": {
        "id": "l0kZcyCJafxl",
        "colab_type": "code",
        "outputId": "ddc9c561-b21c-4957-8163-4e14be914796",
        "colab": {
          "base_uri": "https://localhost:8080/",
          "height": 34
        }
      },
      "source": [
        "len(word_index)"
      ],
      "execution_count": 0,
      "outputs": [
        {
          "output_type": "execute_result",
          "data": {
            "text/plain": [
              "61835"
            ]
          },
          "metadata": {
            "tags": []
          },
          "execution_count": 12
        }
      ]
    },
    {
      "cell_type": "code",
      "metadata": {
        "id": "Lc5yAwpOR8hz",
        "colab_type": "code",
        "outputId": "38f439a8-673e-4d3b-fd71-4374939ef426",
        "colab": {
          "base_uri": "https://localhost:8080/",
          "height": 544
        }
      },
      "source": [
        "list_tokenized_train[:1]"
      ],
      "execution_count": 0,
      "outputs": [
        {
          "output_type": "execute_result",
          "data": {
            "text/plain": [
              "[[4306,\n",
              "  21,\n",
              "  7,\n",
              "  5,\n",
              "  22,\n",
              "  7,\n",
              "  15,\n",
              "  19,\n",
              "  27,\n",
              "  2,\n",
              "  46,\n",
              "  4,\n",
              "  51,\n",
              "  6,\n",
              "  41,\n",
              "  34,\n",
              "  315,\n",
              "  1454,\n",
              "  986,\n",
              "  26,\n",
              "  4,\n",
              "  597,\n",
              "  538,\n",
              "  6,\n",
              "  3278,\n",
              "  783,\n",
              "  89,\n",
              "  1,\n",
              "  3278,\n",
              "  783,\n",
              "  9]]"
            ]
          },
          "metadata": {
            "tags": []
          },
          "execution_count": 13
        }
      ]
    },
    {
      "cell_type": "code",
      "metadata": {
        "id": "OE71t_bOSE-5",
        "colab_type": "code",
        "colab": {}
      },
      "source": [
        "maxlen = 200\n",
        "X_t = tf.keras.preprocessing.sequence.pad_sequences(list_tokenized_train, maxlen=maxlen)"
      ],
      "execution_count": 0,
      "outputs": []
    },
    {
      "cell_type": "markdown",
      "metadata": {
        "id": "B98_9WPSiwP8",
        "colab_type": "text"
      },
      "source": [
        "Choosing 200 for max len due to the plt showing that most of the vuln reports had less than 200 words."
      ]
    },
    {
      "cell_type": "code",
      "metadata": {
        "id": "x64_Q94SSK6W",
        "colab_type": "code",
        "colab": {}
      },
      "source": [
        "totalNumWords = [len(one_comment) for one_comment in list_tokenized_train]"
      ],
      "execution_count": 0,
      "outputs": []
    },
    {
      "cell_type": "code",
      "metadata": {
        "id": "y6xYRtm_SPK_",
        "colab_type": "code",
        "outputId": "d144e133-8e21-42d0-cb12-2cc83cc84c1e",
        "colab": {
          "base_uri": "https://localhost:8080/",
          "height": 265
        }
      },
      "source": [
        "plt.hist(totalNumWords,bins = np.arange(0,410,10))\n",
        "plt.show()"
      ],
      "execution_count": 0,
      "outputs": [
        {
          "output_type": "display_data",
          "data": {
            "image/png": "[encoded data removed]",
            "text/plain": [
              "<Figure size 432x288 with 1 Axes>"
            ]
          },
          "metadata": {
            "tags": []
          }
        }
      ]
    },
    {
      "cell_type": "markdown",
      "metadata": {
        "id": "r0Rm08D8T_8G",
        "colab_type": "text"
      },
      "source": [
        "# Model Building"
      ]
    },
    {
      "cell_type": "code",
      "metadata": {
        "id": "1OcJaBVzSgWF",
        "colab_type": "code",
        "colab": {}
      },
      "source": [
        "inp = tf.keras.layers.Input(shape=(maxlen, ))"
      ],
      "execution_count": 0,
      "outputs": []
    },
    {
      "cell_type": "code",
      "metadata": {
        "id": "LiayUQfvUBSm",
        "colab_type": "code",
        "colab": {}
      },
      "source": [
        "embed_size = 128\n",
        "x = embedding_layer(inp)"
      ],
      "execution_count": 0,
      "outputs": []
    },
    {
      "cell_type": "code",
      "metadata": {
        "id": "ienxQ95GUOUj",
        "colab_type": "code",
        "colab": {}
      },
      "source": [
        "x = tf.keras.layers.LSTM(512, return_sequences=True,name='lstm_layer')(x)"
      ],
      "execution_count": 0,
      "outputs": []
    },
    {
      "cell_type": "code",
      "metadata": {
        "id": "Sr8plFERUS8V",
        "colab_type": "code",
        "colab": {}
      },
      "source": [
        "x = tf.keras.layers.GlobalMaxPool1D()(x)"
      ],
      "execution_count": 0,
      "outputs": []
    },
    {
      "cell_type": "code",
      "metadata": {
        "id": "W1YFbvtIh1Yq",
        "colab_type": "code",
        "colab": {}
      },
      "source": [
        "x = tf.keras.layers.Dense(1024, activation=\"relu\")(x)"
      ],
      "execution_count": 0,
      "outputs": []
    },
    {
      "cell_type": "code",
      "metadata": {
        "id": "wgiAf60iUV5q",
        "colab_type": "code",
        "colab": {}
      },
      "source": [
        "x = tf.keras.layers.Dropout(0.1)(x)"
      ],
      "execution_count": 0,
      "outputs": []
    },
    {
      "cell_type": "code",
      "metadata": {
        "id": "Koh1tyXBUeRE",
        "colab_type": "code",
        "colab": {}
      },
      "source": [
        "x = tf.keras.layers.Dense(512, activation=\"relu\")(x)"
      ],
      "execution_count": 0,
      "outputs": []
    },
    {
      "cell_type": "code",
      "metadata": {
        "id": "928AmCarUi1G",
        "colab_type": "code",
        "colab": {}
      },
      "source": [
        "x = tf.keras.layers.Dropout(0.2)(x)"
      ],
      "execution_count": 0,
      "outputs": []
    },
    {
      "cell_type": "code",
      "metadata": {
        "id": "xXUhydNck-fN",
        "colab_type": "code",
        "colab": {}
      },
      "source": [
        "x = tf.keras.layers.Dense(256, activation=\"relu\")(x)"
      ],
      "execution_count": 0,
      "outputs": []
    },
    {
      "cell_type": "code",
      "metadata": {
        "id": "g8Ff9pCrlBfl",
        "colab_type": "code",
        "colab": {}
      },
      "source": [
        "x = tf.keras.layers.Dropout(0.3)(x)"
      ],
      "execution_count": 0,
      "outputs": []
    },
    {
      "cell_type": "code",
      "metadata": {
        "id": "Nkwzyz8fyui_",
        "colab_type": "code",
        "colab": {}
      },
      "source": [
        "x = tf.keras.layers.Dense(128, activation=\"relu\")(x)"
      ],
      "execution_count": 0,
      "outputs": []
    },
    {
      "cell_type": "code",
      "metadata": {
        "id": "TncMP9K4yxaU",
        "colab_type": "code",
        "colab": {}
      },
      "source": [
        "x = tf.keras.layers.Dropout(0.1)(x)"
      ],
      "execution_count": 0,
      "outputs": []
    },
    {
      "cell_type": "code",
      "metadata": {
        "id": "H5ShdOD6zyfW",
        "colab_type": "code",
        "colab": {}
      },
      "source": [
        "x = tf.keras.layers.Dense(64, activation=\"relu\")(x)"
      ],
      "execution_count": 0,
      "outputs": []
    },
    {
      "cell_type": "code",
      "metadata": {
        "id": "ETToXSgNz1nB",
        "colab_type": "code",
        "colab": {}
      },
      "source": [
        "x = tf.keras.layers.Dropout(0.2)(x)"
      ],
      "execution_count": 0,
      "outputs": []
    },
    {
      "cell_type": "code",
      "metadata": {
        "id": "5RpsfcSt4XO6",
        "colab_type": "code",
        "colab": {}
      },
      "source": [
        "x = tf.keras.layers.Dense(32, activation=\"relu\")(x)"
      ],
      "execution_count": 0,
      "outputs": []
    },
    {
      "cell_type": "code",
      "metadata": {
        "id": "Ixu9EQqE4aDj",
        "colab_type": "code",
        "colab": {}
      },
      "source": [
        "x = tf.keras.layers.Dropout(0.5)(x)"
      ],
      "execution_count": 0,
      "outputs": []
    },
    {
      "cell_type": "code",
      "metadata": {
        "id": "HIOC8YQDUmsf",
        "colab_type": "code",
        "colab": {}
      },
      "source": [
        "x = tf.keras.layers.Dense(10, activation=\"sigmoid\")(x)"
      ],
      "execution_count": 0,
      "outputs": []
    },
    {
      "cell_type": "code",
      "metadata": {
        "id": "zT1zad33U5FH",
        "colab_type": "code",
        "colab": {}
      },
      "source": [
        "model = tf.keras.models.Model(inputs=inp, outputs=x)\n",
        "model.compile(loss='categorical_crossentropy',\n",
        "                  optimizer='rmsprop',\n",
        "                  metrics=['accuracy'])"
      ],
      "execution_count": 0,
      "outputs": []
    },
    {
      "cell_type": "markdown",
      "metadata": {
        "id": "jnKxJ0Fui-Hv",
        "colab_type": "text"
      },
      "source": [
        "# Model Training"
      ]
    },
    {
      "cell_type": "code",
      "metadata": {
        "id": "Gd8r8Go4U_mH",
        "colab_type": "code",
        "outputId": "2f7a6d36-5ffa-4601-990b-bd776ce2c194",
        "colab": {
          "base_uri": "https://localhost:8080/",
          "height": 173
        }
      },
      "source": [
        "batch_size = 16\n",
        "epochs = 3\n",
        "model.fit(X_t,y, batch_size=batch_size, epochs=epochs, validation_split=0.2)"
      ],
      "execution_count": 0,
      "outputs": [
        {
          "output_type": "stream",
          "text": [
            "Train on 45312 samples, validate on 11329 samples\n",
            "Epoch 1/3\n",
            "45312/45312 [==============================] - 140s 3ms/sample - loss: 142.1399 - accuracy: 0.7012 - val_loss: 141.4349 - val_accuracy: 0.7224\n",
            "Epoch 2/3\n",
            "45312/45312 [==============================] - 136s 3ms/sample - loss: 141.7852 - accuracy: 0.8133 - val_loss: 141.4093 - val_accuracy: 0.7355\n",
            "Epoch 3/3\n",
            "45312/45312 [==============================] - 136s 3ms/sample - loss: 141.7484 - accuracy: 0.8356 - val_loss: 141.4132 - val_accuracy: 0.7342\n"
          ],
          "name": "stdout"
        },
        {
          "output_type": "execute_result",
          "data": {
            "text/plain": [
              "<tensorflow.python.keras.callbacks.History at 0x7fc4118de390>"
            ]
          },
          "metadata": {
            "tags": []
          },
          "execution_count": 184
        }
      ]
    },
    {
      "cell_type": "code",
      "metadata": {
        "id": "QRQTPA_MWKUg",
        "colab_type": "code",
        "outputId": "bfa217ab-c9a3-43a6-caeb-954aa4360eaa",
        "colab": {
          "base_uri": "https://localhost:8080/",
          "height": 731
        }
      },
      "source": [
        "model.summary()"
      ],
      "execution_count": 0,
      "outputs": [
        {
          "output_type": "stream",
          "text": [
            "Model: \"model_8\"\n",
            "_________________________________________________________________\n",
            "Layer (type)                 Output Shape              Param #   \n",
            "=================================================================\n",
            "input_9 (InputLayer)         [(None, 200)]             0         \n",
            "_________________________________________________________________\n",
            "embedding (Embedding)        (None, 200, 100)          2000100   \n",
            "_________________________________________________________________\n",
            "lstm_layer (LSTM)            (None, 200, 512)          1255424   \n",
            "_________________________________________________________________\n",
            "global_max_pooling1d_8 (Glob (None, 512)               0         \n",
            "_________________________________________________________________\n",
            "dense_46 (Dense)             (None, 1024)              525312    \n",
            "_________________________________________________________________\n",
            "dropout_37 (Dropout)         (None, 1024)              0         \n",
            "_________________________________________________________________\n",
            "dense_47 (Dense)             (None, 512)               524800    \n",
            "_________________________________________________________________\n",
            "dropout_38 (Dropout)         (None, 512)               0         \n",
            "_________________________________________________________________\n",
            "dense_48 (Dense)             (None, 256)               131328    \n",
            "_________________________________________________________________\n",
            "dropout_39 (Dropout)         (None, 256)               0         \n",
            "_________________________________________________________________\n",
            "dense_49 (Dense)             (None, 128)               32896     \n",
            "_________________________________________________________________\n",
            "dropout_40 (Dropout)         (None, 128)               0         \n",
            "_________________________________________________________________\n",
            "dense_50 (Dense)             (None, 64)                8256      \n",
            "_________________________________________________________________\n",
            "dropout_41 (Dropout)         (None, 64)                0         \n",
            "_________________________________________________________________\n",
            "dense_51 (Dense)             (None, 32)                2080      \n",
            "_________________________________________________________________\n",
            "dropout_42 (Dropout)         (None, 32)                0         \n",
            "_________________________________________________________________\n",
            "dense_52 (Dense)             (None, 10)                330       \n",
            "=================================================================\n",
            "Total params: 4,480,526\n",
            "Trainable params: 4,480,526\n",
            "Non-trainable params: 0\n",
            "_________________________________________________________________\n"
          ],
          "name": "stdout"
        }
      ]
    }
  ]
}